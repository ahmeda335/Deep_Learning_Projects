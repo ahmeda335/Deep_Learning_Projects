{
  "nbformat": 4,
  "nbformat_minor": 0,
  "metadata": {
    "colab": {
      "provenance": [],
      "gpuType": "T4",
      "authorship_tag": "ABX9TyOIaYFJe//LwIoEHfa7hXkh",
      "include_colab_link": true
    },
    "kernelspec": {
      "name": "python3",
      "display_name": "Python 3"
    },
    "language_info": {
      "name": "python"
    },
    "accelerator": "GPU"
  },
  "cells": [
    {
      "cell_type": "markdown",
      "metadata": {
        "id": "view-in-github",
        "colab_type": "text"
      },
      "source": [
        "<a href=\"https://colab.research.google.com/github/ahmeda335/Deep_Learning_Projects/blob/main/Training_Model_Using_RNN_%26_LSTM.ipynb\" target=\"_parent\"><img src=\"https://colab.research.google.com/assets/colab-badge.svg\" alt=\"Open In Colab\"/></a>"
      ]
    },
    {
      "cell_type": "markdown",
      "source": [
        "# Importing Necessary Libraries and Setting Global Variables."
      ],
      "metadata": {
        "id": "fJgqmsJkK6kq"
      }
    },
    {
      "cell_type": "code",
      "execution_count": 77,
      "metadata": {
        "colab": {
          "base_uri": "https://localhost:8080/"
        },
        "id": "7E5sIPCj_bmc",
        "outputId": "d193ab7e-0498-450b-f8ba-97efda14b7b5"
      },
      "outputs": [
        {
          "output_type": "stream",
          "name": "stderr",
          "text": [
            "[nltk_data] Downloading package stopwords to /root/nltk_data...\n",
            "[nltk_data]   Package stopwords is already up-to-date!\n"
          ]
        }
      ],
      "source": [
        "import csv\n",
        "import tensorflow as tf\n",
        "import numpy as np\n",
        "import random\n",
        "import matplotlib.pyplot as plt\n",
        "import tensorflow\n",
        "from tensorflow.keras.preprocessing.text import Tokenizer\n",
        "from tensorflow.keras.preprocessing.sequence import pad_sequences\n",
        "from tensorflow.keras.models import Sequential\n",
        "from tensorflow.keras.layers import Dense, Flatten, LSTM, Dropout, Activation, Embedding, Bidirectional,SimpleRNN\n",
        "import nltk\n",
        "nltk.download('stopwords')\n",
        "from nltk.corpus import stopwords\n",
        "STOPWORDS = set(stopwords.words('english'))"
      ]
    },
    {
      "cell_type": "code",
      "source": [
        "vocab_size = 5000\n",
        "embedding_dim = 64\n",
        "oov_tok = '<OOV>' #  Out of Vocabulary\n",
        "training_portion = 0.8"
      ],
      "metadata": {
        "id": "ePSFPD07AD98"
      },
      "execution_count": null,
      "outputs": []
    },
    {
      "cell_type": "markdown",
      "source": [
        "# Reading the Data And Preprocessing."
      ],
      "metadata": {
        "id": "UW0JBE-lLG3i"
      }
    },
    {
      "cell_type": "code",
      "source": [
        "articles = []\n",
        "labels = []\n",
        "\n",
        "with open(\"/content/Data.csv\", 'r') as csvfile:\n",
        "    reader = csv.reader(csvfile, delimiter=',')\n",
        "    next(reader)\n",
        "    for row in reader:\n",
        "        labels.append(row[1])\n",
        "        article = row[0]\n",
        "        for word in STOPWORDS:\n",
        "            token = ' ' + word + ' '   # This is important to remove 'in' but not 'in'effecient.\n",
        "            article = article.replace(token, ' ')\n",
        "            article = article.replace(' ', ' ')\n",
        "        articles.append(article)"
      ],
      "metadata": {
        "id": "tCXLxruRAg3s"
      },
      "execution_count": 23,
      "outputs": []
    },
    {
      "cell_type": "code",
      "source": [
        "len(labels), len(articles)"
      ],
      "metadata": {
        "colab": {
          "base_uri": "https://localhost:8080/"
        },
        "id": "hATvk8B4Awin",
        "outputId": "d5e67d91-2142-49e5-9cc2-d89adc20708e"
      },
      "execution_count": 24,
      "outputs": [
        {
          "output_type": "execute_result",
          "data": {
            "text/plain": [
              "(2225, 2225)"
            ]
          },
          "metadata": {},
          "execution_count": 24
        }
      ]
    },
    {
      "cell_type": "code",
      "source": [
        "set(labels)"
      ],
      "metadata": {
        "colab": {
          "base_uri": "https://localhost:8080/"
        },
        "id": "c2AJ5Z4MIN1U",
        "outputId": "0ace081f-026e-4fc9-fb6c-43b780dfeb40"
      },
      "execution_count": 69,
      "outputs": [
        {
          "output_type": "execute_result",
          "data": {
            "text/plain": [
              "{'business', 'entertainment', 'politics', 'sport', 'tech'}"
            ]
          },
          "metadata": {},
          "execution_count": 69
        }
      ]
    },
    {
      "cell_type": "code",
      "source": [
        "labels[0], articles[0]"
      ],
      "metadata": {
        "colab": {
          "base_uri": "https://localhost:8080/"
        },
        "id": "i1HwsWEYAnvX",
        "outputId": "e5e09c7a-fd52-4877-e889-bda27b517b8c"
      },
      "execution_count": 25,
      "outputs": [
        {
          "output_type": "execute_result",
          "data": {
            "text/plain": [
              "('entertainment',\n",
              " 'Musicians tackle US red tape  Musicians groups tackle US visa regulations blamed hindering British acts chances succeeding across Atlantic.  A singer hoping perform US expect pay $1,300 (xc2xa3680) simply obtaining visa. Groups including Musicians Union calling end \"raw deal\" faced British performers. US acts faced comparable expense bureaucracy visiting UK promotional purposes.  Nigel McCune Musicians Union said British musicians \"disadvantaged\" compared US counterparts. A sponsor make petition behalf, form amounting nearly 30 pages, musicians face tougher regulations athletes journalists. \"If make mistake form, risk five-year ban thus ability career,\" says Mr McCune.  \"The US worlds biggest music market, means something done creaky bureaucracy,\" says Mr McCune. \"The current situation preventing British acts maintaining momentum developing US,\" added.  The Musicians Union stance endorsed Music Managers Forum (MMF), say British artists face \"an uphill struggle\" succeed US, thanks tough visa requirements, also seen impractical. The MMFs general secretary James Seller said: \"Imagine orchestra Orkneys? Every member would travel London visas processed.\"  \"The US market seen holy grail one benchmarks success, still going fight get there. \"Its still important, markets like Europe, India China,\" added Mr Seller. A Department Media, Culture Sport spokeswoman said: \"Were aware people experiencing problems, working US embassy record industry see it.\" A US Embassy spokesman said: \"We aware entertainers require visas time-specific visas everything process applications speedily.\" \"We aware importance cultural exchange best facilitate that,\" added. ')"
            ]
          },
          "metadata": {},
          "execution_count": 25
        }
      ]
    },
    {
      "cell_type": "code",
      "source": [
        "# Shuffling the data.\n",
        "combined = list(zip(labels, articles))\n",
        "\n",
        "random.seed(42)\n",
        "random.shuffle(combined)\n",
        "\n",
        "print(combined)\n",
        "labels, articles = zip(*combined)\n",
        "\n",
        "\n",
        "\n",
        "labels = list(labels)\n",
        "articles = list(articles)\n",
        "\n",
        "# labels\n",
        "# articles"
      ],
      "metadata": {
        "id": "fehE9gMsCYV-"
      },
      "execution_count": null,
      "outputs": []
    },
    {
      "cell_type": "code",
      "source": [
        "# Dividing my data into train part and validation part.\n",
        "train_size = int(training_portion * len(labels))\n",
        "\n",
        "train_articles = articles[:train_size]\n",
        "train_labels = labels[:train_size]\n",
        "\n",
        "validation_articles = articles[train_size:]\n",
        "validation_labels = labels[train_size:]"
      ],
      "metadata": {
        "id": "BG3R6Ad-Au2o"
      },
      "execution_count": 28,
      "outputs": []
    },
    {
      "cell_type": "code",
      "source": [
        "print('train_articles' ,len(train_articles))\n",
        "print('train_labels', len(train_labels))\n",
        "print('validation_articles', len(validation_articles))\n",
        "print('validation_labels', len(validation_labels))"
      ],
      "metadata": {
        "colab": {
          "base_uri": "https://localhost:8080/"
        },
        "id": "al1N5i9JE_U-",
        "outputId": "b73018b1-31d0-478f-d08b-328f306ef976"
      },
      "execution_count": 29,
      "outputs": [
        {
          "output_type": "stream",
          "name": "stdout",
          "text": [
            "train_articles 1780\n",
            "train_labels 1780\n",
            "validation_articles 445\n",
            "validation_labels 445\n"
          ]
        }
      ]
    },
    {
      "cell_type": "code",
      "source": [
        "article_tokenizer = Tokenizer(num_words = vocab_size, oov_token=oov_tok)\n",
        "article_tokenizer.fit_on_texts(articles)\n",
        "word_index = article_tokenizer.word_index"
      ],
      "metadata": {
        "id": "cab9R1CrE_-1"
      },
      "execution_count": 50,
      "outputs": []
    },
    {
      "cell_type": "code",
      "source": [
        "word_index"
      ],
      "metadata": {
        "colab": {
          "base_uri": "https://localhost:8080/"
        },
        "id": "LcE04fWjFaqV",
        "outputId": "1709baff-6618-4ce9-c10d-ee39bab66cc8"
      },
      "execution_count": 51,
      "outputs": [
        {
          "output_type": "execute_result",
          "data": {
            "text/plain": [
              "{'<OOV>': 1,\n",
              " 'the': 2,\n",
              " 'said': 3,\n",
              " 'i': 4,\n",
              " 'mr': 5,\n",
              " 'would': 6,\n",
              " 'also': 7,\n",
              " 'it': 8,\n",
              " 'year': 9,\n",
              " 'new': 10,\n",
              " 'people': 11,\n",
              " 'us': 12,\n",
              " 'one': 13,\n",
              " 'but': 14,\n",
              " 'he': 15,\n",
              " 'could': 16,\n",
              " 'last': 17,\n",
              " 'first': 18,\n",
              " 'time': 19,\n",
              " 'two': 20,\n",
              " 'in': 21,\n",
              " 'years': 22,\n",
              " 'a': 23,\n",
              " 'government': 24,\n",
              " 'world': 25,\n",
              " 'we': 26,\n",
              " 'uk': 27,\n",
              " 'best': 28,\n",
              " 'make': 29,\n",
              " 'told': 30,\n",
              " 'get': 31,\n",
              " 'like': 32,\n",
              " 'film': 33,\n",
              " 'made': 34,\n",
              " 'back': 35,\n",
              " 'game': 36,\n",
              " 'music': 37,\n",
              " 'many': 38,\n",
              " 'three': 39,\n",
              " '000': 40,\n",
              " 'well': 41,\n",
              " 'next': 42,\n",
              " '1': 43,\n",
              " 'set': 44,\n",
              " 'number': 45,\n",
              " 'take': 46,\n",
              " 'way': 47,\n",
              " 'added': 48,\n",
              " 'this': 49,\n",
              " 'bbc': 50,\n",
              " 'and': 51,\n",
              " 'market': 52,\n",
              " '2': 53,\n",
              " 'says': 54,\n",
              " 'may': 55,\n",
              " 'home': 56,\n",
              " 'election': 57,\n",
              " 'labour': 58,\n",
              " 'games': 59,\n",
              " 'good': 60,\n",
              " 'going': 61,\n",
              " '2004': 62,\n",
              " 'still': 63,\n",
              " 'much': 64,\n",
              " 'company': 65,\n",
              " 'there': 66,\n",
              " 'win': 67,\n",
              " '6': 68,\n",
              " 'go': 69,\n",
              " 'since': 70,\n",
              " 'work': 71,\n",
              " 'second': 72,\n",
              " 'top': 73,\n",
              " 'think': 74,\n",
              " 'use': 75,\n",
              " 'say': 76,\n",
              " 'show': 77,\n",
              " 'million': 78,\n",
              " 'part': 79,\n",
              " 'play': 80,\n",
              " 'technology': 81,\n",
              " 'high': 82,\n",
              " 'firm': 83,\n",
              " 'want': 84,\n",
              " 'public': 85,\n",
              " 'its': 86,\n",
              " 'they': 87,\n",
              " 'week': 88,\n",
              " '3': 89,\n",
              " 'see': 90,\n",
              " 'england': 91,\n",
              " 'british': 92,\n",
              " 'mobile': 93,\n",
              " 'party': 94,\n",
              " 'blair': 95,\n",
              " 'that': 96,\n",
              " '10': 97,\n",
              " 'five': 98,\n",
              " 'players': 99,\n",
              " 'used': 100,\n",
              " 'european': 101,\n",
              " 'tv': 102,\n",
              " 'minister': 103,\n",
              " 'news': 104,\n",
              " 'end': 105,\n",
              " 'however': 106,\n",
              " 'expected': 107,\n",
              " 'even': 108,\n",
              " 'sales': 109,\n",
              " 'four': 110,\n",
              " 'if': 111,\n",
              " '5': 112,\n",
              " 'months': 113,\n",
              " 'plans': 114,\n",
              " 'six': 115,\n",
              " 'on': 116,\n",
              " 'already': 117,\n",
              " 'half': 118,\n",
              " 'put': 119,\n",
              " 'old': 120,\n",
              " 'group': 121,\n",
              " 'growth': 122,\n",
              " 'come': 123,\n",
              " 'up': 124,\n",
              " 'chief': 125,\n",
              " 'day': 126,\n",
              " 'service': 127,\n",
              " 'former': 128,\n",
              " 'firms': 129,\n",
              " 'long': 130,\n",
              " 'net': 131,\n",
              " 'economy': 132,\n",
              " '2005': 133,\n",
              " 'money': 134,\n",
              " 'director': 135,\n",
              " 'services': 136,\n",
              " '4': 137,\n",
              " 'dont': 138,\n",
              " 'tax': 139,\n",
              " 'deal': 140,\n",
              " 'companies': 141,\n",
              " 'right': 142,\n",
              " 'record': 143,\n",
              " 'users': 144,\n",
              " 'according': 145,\n",
              " 'help': 146,\n",
              " 'based': 147,\n",
              " 'need': 148,\n",
              " 'system': 149,\n",
              " 'digital': 150,\n",
              " 'big': 151,\n",
              " 'london': 152,\n",
              " 'industry': 153,\n",
              " 'including': 154,\n",
              " 'place': 155,\n",
              " 'around': 156,\n",
              " 'international': 157,\n",
              " 'third': 158,\n",
              " 'brown': 159,\n",
              " 'month': 160,\n",
              " 'team': 161,\n",
              " 'country': 162,\n",
              " 'report': 163,\n",
              " 'business': 164,\n",
              " 'economic': 165,\n",
              " 'wales': 166,\n",
              " '2003': 167,\n",
              " 'great': 168,\n",
              " 'called': 169,\n",
              " 'really': 170,\n",
              " 'move': 171,\n",
              " 'open': 172,\n",
              " 'software': 173,\n",
              " 'another': 174,\n",
              " 'phone': 175,\n",
              " 'life': 176,\n",
              " 'final': 177,\n",
              " '7': 178,\n",
              " 'got': 179,\n",
              " 'future': 180,\n",
              " 'im': 181,\n",
              " 'start': 182,\n",
              " 'hit': 183,\n",
              " 'all': 184,\n",
              " 'took': 185,\n",
              " 'video': 186,\n",
              " 'europe': 187,\n",
              " 'know': 188,\n",
              " 'general': 189,\n",
              " 'came': 190,\n",
              " 'bank': 191,\n",
              " 'better': 192,\n",
              " 'spokesman': 193,\n",
              " 'to': 194,\n",
              " 'information': 195,\n",
              " 'radio': 196,\n",
              " 'law': 197,\n",
              " 'online': 198,\n",
              " 'without': 199,\n",
              " 'club': 200,\n",
              " 'state': 201,\n",
              " 'office': 202,\n",
              " 'decision': 203,\n",
              " 'court': 204,\n",
              " 'despite': 205,\n",
              " 'howard': 206,\n",
              " 'found': 207,\n",
              " 'real': 208,\n",
              " 'computer': 209,\n",
              " 'far': 210,\n",
              " 'making': 211,\n",
              " 'as': 212,\n",
              " 'using': 213,\n",
              " 'action': 214,\n",
              " 'likely': 215,\n",
              " 'president': 216,\n",
              " 'prime': 217,\n",
              " 'campaign': 218,\n",
              " 'data': 219,\n",
              " 'britain': 220,\n",
              " 'security': 221,\n",
              " 'seen': 222,\n",
              " 'figures': 223,\n",
              " 'give': 224,\n",
              " 'saying': 225,\n",
              " 'line': 226,\n",
              " 'media': 227,\n",
              " 'nations': 228,\n",
              " 'side': 229,\n",
              " 'lot': 230,\n",
              " 'awards': 231,\n",
              " 'run': 232,\n",
              " 'given': 233,\n",
              " 'national': 234,\n",
              " 'away': 235,\n",
              " 'executive': 236,\n",
              " 'offer': 237,\n",
              " 'able': 238,\n",
              " 'countries': 239,\n",
              " 'foreign': 240,\n",
              " 'for': 241,\n",
              " 'every': 242,\n",
              " 'internet': 243,\n",
              " 'star': 244,\n",
              " 'oil': 245,\n",
              " 'united': 246,\n",
              " 'times': 247,\n",
              " 'lost': 248,\n",
              " 'france': 249,\n",
              " 'become': 250,\n",
              " 'rise': 251,\n",
              " 'player': 252,\n",
              " 'biggest': 253,\n",
              " 'match': 254,\n",
              " 'cup': 255,\n",
              " 'although': 256,\n",
              " 'left': 257,\n",
              " 'look': 258,\n",
              " 'january': 259,\n",
              " 'anti': 260,\n",
              " 'days': 261,\n",
              " 'playing': 262,\n",
              " 'cost': 263,\n",
              " 'later': 264,\n",
              " 'whether': 265,\n",
              " 'december': 266,\n",
              " 'ireland': 267,\n",
              " 'early': 268,\n",
              " 'taking': 269,\n",
              " 'past': 270,\n",
              " 'research': 271,\n",
              " 'pay': 272,\n",
              " 'award': 273,\n",
              " 'case': 274,\n",
              " 'hard': 275,\n",
              " 'earlier': 276,\n",
              " 'prices': 277,\n",
              " 'e': 278,\n",
              " 'secretary': 279,\n",
              " 'she': 280,\n",
              " 'less': 281,\n",
              " 'leader': 282,\n",
              " 'recent': 283,\n",
              " 'legal': 284,\n",
              " 'man': 285,\n",
              " 'cut': 286,\n",
              " 'interest': 287,\n",
              " 'due': 288,\n",
              " '20': 289,\n",
              " 'analysts': 290,\n",
              " 'role': 291,\n",
              " 'michael': 292,\n",
              " 'house': 293,\n",
              " 'so': 294,\n",
              " 'spending': 295,\n",
              " 'you': 296,\n",
              " 'played': 297,\n",
              " '12': 298,\n",
              " 'bill': 299,\n",
              " 'films': 300,\n",
              " 'lord': 301,\n",
              " 'little': 302,\n",
              " 'never': 303,\n",
              " 'strong': 304,\n",
              " 'shares': 305,\n",
              " 'important': 306,\n",
              " 'eu': 307,\n",
              " 'control': 308,\n",
              " 'current': 309,\n",
              " 'support': 310,\n",
              " '0': 311,\n",
              " 'tory': 312,\n",
              " 'went': 313,\n",
              " 'believe': 314,\n",
              " 'increase': 315,\n",
              " 'face': 316,\n",
              " 'working': 317,\n",
              " 'free': 318,\n",
              " 'following': 319,\n",
              " 'local': 320,\n",
              " 'ahead': 321,\n",
              " 'major': 322,\n",
              " 'quarter': 323,\n",
              " 'budget': 324,\n",
              " 'must': 325,\n",
              " 'financial': 326,\n",
              " 'looking': 327,\n",
              " 'currently': 328,\n",
              " 'thought': 329,\n",
              " 'change': 330,\n",
              " 'police': 331,\n",
              " 'issue': 332,\n",
              " 'south': 333,\n",
              " 'held': 334,\n",
              " 'rights': 335,\n",
              " 'john': 336,\n",
              " 'different': 337,\n",
              " 'return': 338,\n",
              " 'full': 339,\n",
              " 'now': 340,\n",
              " 'latest': 341,\n",
              " 'broadband': 342,\n",
              " 'season': 343,\n",
              " 'series': 344,\n",
              " 'try': 345,\n",
              " 'david': 346,\n",
              " 'weeks': 347,\n",
              " 'yet': 348,\n",
              " 'ms': 349,\n",
              " 'something': 350,\n",
              " 'access': 351,\n",
              " 'at': 352,\n",
              " 'announced': 353,\n",
              " 'among': 354,\n",
              " 'trade': 355,\n",
              " 'chancellor': 356,\n",
              " 'always': 357,\n",
              " 'out': 358,\n",
              " 'power': 359,\n",
              " 'with': 360,\n",
              " 'winning': 361,\n",
              " 'find': 362,\n",
              " 'rate': 363,\n",
              " 'personal': 364,\n",
              " 'key': 365,\n",
              " 'almost': 366,\n",
              " 'them': 367,\n",
              " 'chance': 368,\n",
              " 'tories': 369,\n",
              " '30': 370,\n",
              " 'meeting': 371,\n",
              " 'sale': 372,\n",
              " 'lead': 373,\n",
              " '8': 374,\n",
              " 'website': 375,\n",
              " 'china': 376,\n",
              " 'point': 377,\n",
              " 'american': 378,\n",
              " 'might': 379,\n",
              " 'low': 380,\n",
              " 'include': 381,\n",
              " 'keep': 382,\n",
              " 'phones': 383,\n",
              " 'ever': 384,\n",
              " 'share': 385,\n",
              " 'ago': 386,\n",
              " 'behind': 387,\n",
              " 'problem': 388,\n",
              " 'taken': 389,\n",
              " 'programme': 390,\n",
              " 'injury': 391,\n",
              " 'claims': 392,\n",
              " 'sold': 393,\n",
              " 'statement': 394,\n",
              " 'problems': 395,\n",
              " 'dollar': 396,\n",
              " 'performance': 397,\n",
              " 'clear': 398,\n",
              " 'political': 399,\n",
              " 'coach': 400,\n",
              " 'demand': 401,\n",
              " 'enough': 402,\n",
              " 'march': 403,\n",
              " 'getting': 404,\n",
              " 'across': 405,\n",
              " 'things': 406,\n",
              " 'released': 407,\n",
              " 'done': 408,\n",
              " 'chairman': 409,\n",
              " '11': 410,\n",
              " 'rather': 411,\n",
              " 'tony': 412,\n",
              " 'search': 413,\n",
              " 'more': 414,\n",
              " 'head': 415,\n",
              " 'jobs': 416,\n",
              " 'job': 417,\n",
              " 'means': 418,\n",
              " 'mail': 419,\n",
              " 'minutes': 420,\n",
              " 'mark': 421,\n",
              " 'ministers': 422,\n",
              " 'content': 423,\n",
              " '9': 424,\n",
              " 'continue': 425,\n",
              " 'needed': 426,\n",
              " 'scotland': 427,\n",
              " 'network': 428,\n",
              " 'february': 429,\n",
              " '25': 430,\n",
              " 'title': 431,\n",
              " 'term': 432,\n",
              " 'price': 433,\n",
              " 'manager': 434,\n",
              " 'war': 435,\n",
              " 'costs': 436,\n",
              " 'children': 437,\n",
              " 'consumer': 438,\n",
              " 'list': 439,\n",
              " '50': 440,\n",
              " 'microsoft': 441,\n",
              " 'result': 442,\n",
              " 'band': 443,\n",
              " 'some': 444,\n",
              " 'bid': 445,\n",
              " 'worlds': 446,\n",
              " 'least': 447,\n",
              " 'possible': 448,\n",
              " 'members': 449,\n",
              " 'coming': 450,\n",
              " 'young': 451,\n",
              " 'within': 452,\n",
              " 'available': 453,\n",
              " 'huge': 454,\n",
              " 'warned': 455,\n",
              " 'plan': 456,\n",
              " '18': 457,\n",
              " 'victory': 458,\n",
              " 'williams': 459,\n",
              " 'rugby': 460,\n",
              " 'act': 461,\n",
              " 'fans': 462,\n",
              " 'allow': 463,\n",
              " 'level': 464,\n",
              " 'actor': 465,\n",
              " 'tuesday': 466,\n",
              " 'asked': 467,\n",
              " 'november': 468,\n",
              " 'mps': 469,\n",
              " 'hold': 470,\n",
              " 'investment': 471,\n",
              " 'what': 472,\n",
              " 'thats': 473,\n",
              " 'thing': 474,\n",
              " 'issues': 475,\n",
              " 'running': 476,\n",
              " 'his': 477,\n",
              " 'sunday': 478,\n",
              " 'policy': 479,\n",
              " 'vote': 480,\n",
              " 'centre': 481,\n",
              " 'council': 482,\n",
              " 'form': 483,\n",
              " 'global': 484,\n",
              " 'close': 485,\n",
              " 'main': 486,\n",
              " 'known': 487,\n",
              " 'wednesday': 488,\n",
              " 'league': 489,\n",
              " 'yukos': 490,\n",
              " 'production': 491,\n",
              " 'no': 492,\n",
              " 'success': 493,\n",
              " 'web': 494,\n",
              " 'wanted': 495,\n",
              " 'total': 496,\n",
              " 'monday': 497,\n",
              " 'cash': 498,\n",
              " 'beat': 499,\n",
              " '15': 500,\n",
              " 'networks': 501,\n",
              " 'french': 502,\n",
              " 'shows': 503,\n",
              " 'forward': 504,\n",
              " 'other': 505,\n",
              " 'small': 506,\n",
              " 'rates': 507,\n",
              " 'album': 508,\n",
              " 'trying': 509,\n",
              " 'site': 510,\n",
              " 'several': 511,\n",
              " 'others': 512,\n",
              " 'chelsea': 513,\n",
              " 'buy': 514,\n",
              " 'pc': 515,\n",
              " 'competition': 516,\n",
              " 'human': 517,\n",
              " 'consumers': 518,\n",
              " '100': 519,\n",
              " 'though': 520,\n",
              " '2001': 521,\n",
              " 'career': 522,\n",
              " 'live': 523,\n",
              " 'customers': 524,\n",
              " 'higher': 525,\n",
              " 'union': 526,\n",
              " 'version': 527,\n",
              " 'recently': 528,\n",
              " 'previous': 529,\n",
              " 'reports': 530,\n",
              " 'health': 531,\n",
              " 'saw': 532,\n",
              " 'single': 533,\n",
              " 'break': 534,\n",
              " 'comes': 535,\n",
              " 'rules': 536,\n",
              " 'agreed': 537,\n",
              " 'led': 538,\n",
              " 'when': 539,\n",
              " 'eight': 540,\n",
              " 'aid': 541,\n",
              " 'song': 542,\n",
              " 'evidence': 543,\n",
              " 'stock': 544,\n",
              " 'wants': 545,\n",
              " 'development': 546,\n",
              " 'hope': 547,\n",
              " 'reported': 548,\n",
              " 'lib': 549,\n",
              " 'today': 550,\n",
              " 'short': 551,\n",
              " 'showed': 552,\n",
              " 'difficult': 553,\n",
              " 'sir': 554,\n",
              " 'friday': 555,\n",
              " 'christmas': 556,\n",
              " 'profits': 557,\n",
              " 'failed': 558,\n",
              " 'race': 559,\n",
              " 'of': 560,\n",
              " 'fourth': 561,\n",
              " 'goal': 562,\n",
              " 'liberal': 563,\n",
              " 'call': 564,\n",
              " 'football': 565,\n",
              " 'meet': 566,\n",
              " 'popular': 567,\n",
              " 'sites': 568,\n",
              " 'trial': 569,\n",
              " 'book': 570,\n",
              " 'apple': 571,\n",
              " 'committee': 572,\n",
              " 'rose': 573,\n",
              " 'event': 574,\n",
              " 'fact': 575,\n",
              " 'name': 576,\n",
              " 'virus': 577,\n",
              " 'points': 578,\n",
              " 'city': 579,\n",
              " 'late': 580,\n",
              " 'nothing': 581,\n",
              " 'project': 582,\n",
              " 'instead': 583,\n",
              " 'choice': 584,\n",
              " 'him': 585,\n",
              " 'gaming': 586,\n",
              " 'russian': 587,\n",
              " 'co': 588,\n",
              " 'growing': 589,\n",
              " 'parties': 590,\n",
              " 'annual': 591,\n",
              " 'commission': 592,\n",
              " 'september': 593,\n",
              " 'prize': 594,\n",
              " 'jones': 595,\n",
              " 'let': 596,\n",
              " 'calls': 597,\n",
              " 'charles': 598,\n",
              " 'received': 599,\n",
              " 'feel': 600,\n",
              " 'family': 601,\n",
              " 'governments': 602,\n",
              " 'cannot': 603,\n",
              " 'stop': 604,\n",
              " '17': 605,\n",
              " 'mean': 606,\n",
              " 'champion': 607,\n",
              " 'movie': 608,\n",
              " 'release': 609,\n",
              " 'didnt': 610,\n",
              " 'dvd': 611,\n",
              " 'men': 612,\n",
              " 'box': 613,\n",
              " 'television': 614,\n",
              " 'ive': 615,\n",
              " 'women': 616,\n",
              " 'sport': 617,\n",
              " 'iraq': 618,\n",
              " 'test': 619,\n",
              " 'tour': 620,\n",
              " 'sure': 621,\n",
              " 'claim': 622,\n",
              " 'age': 623,\n",
              " 's': 624,\n",
              " 'york': 625,\n",
              " 'large': 626,\n",
              " 'october': 627,\n",
              " 'thursday': 628,\n",
              " 'boss': 629,\n",
              " 'devices': 630,\n",
              " 'japan': 631,\n",
              " 'paid': 632,\n",
              " 'board': 633,\n",
              " 'fall': 634,\n",
              " 'debt': 635,\n",
              " 'together': 636,\n",
              " 'order': 637,\n",
              " 'conference': 638,\n",
              " 'groups': 639,\n",
              " 'actress': 640,\n",
              " 'not': 641,\n",
              " 'involved': 642,\n",
              " 'launch': 643,\n",
              " '40': 644,\n",
              " 'attacks': 645,\n",
              " 'denied': 646,\n",
              " 'giant': 647,\n",
              " 'changes': 648,\n",
              " 'car': 649,\n",
              " 'boost': 650,\n",
              " 'euros': 651,\n",
              " 'education': 652,\n",
              " 'fell': 653,\n",
              " '2002': 654,\n",
              " 'products': 655,\n",
              " 'saturday': 656,\n",
              " 'summer': 657,\n",
              " 'stars': 658,\n",
              " 'australian': 659,\n",
              " 'by': 660,\n",
              " 'pressure': 661,\n",
              " 'similar': 662,\n",
              " 'round': 663,\n",
              " 'street': 664,\n",
              " 'sent': 665,\n",
              " 'launched': 666,\n",
              " 'school': 667,\n",
              " 'parliament': 668,\n",
              " '16': 669,\n",
              " 'paul': 670,\n",
              " 'range': 671,\n",
              " 'position': 672,\n",
              " 'black': 673,\n",
              " 'olympic': 674,\n",
              " 'needs': 675,\n",
              " 'cards': 676,\n",
              " 'leading': 677,\n",
              " 'id': 678,\n",
              " 'pre': 679,\n",
              " 'off': 680,\n",
              " 'talks': 681,\n",
              " 'an': 682,\n",
              " 'love': 683,\n",
              " 'bit': 684,\n",
              " 'date': 685,\n",
              " 'association': 686,\n",
              " 'create': 687,\n",
              " 'chart': 688,\n",
              " 'oscar': 689,\n",
              " 'potential': 690,\n",
              " 'largest': 691,\n",
              " 'accused': 692,\n",
              " 'idea': 693,\n",
              " 'special': 694,\n",
              " 'ensure': 695,\n",
              " 'results': 696,\n",
              " 'remain': 697,\n",
              " 'senior': 698,\n",
              " 'irish': 699,\n",
              " 'gordon': 700,\n",
              " 'stage': 701,\n",
              " 'started': 702,\n",
              " 'opening': 703,\n",
              " 'manchester': 704,\n",
              " 'believes': 705,\n",
              " 'italy': 706,\n",
              " 'quite': 707,\n",
              " 'sony': 708,\n",
              " 'hours': 709,\n",
              " 'voters': 710,\n",
              " 'appeal': 711,\n",
              " 'claimed': 712,\n",
              " 'turn': 713,\n",
              " 'anything': 714,\n",
              " 'africa': 715,\n",
              " 'seven': 716,\n",
              " 'per': 717,\n",
              " 'simply': 718,\n",
              " 'makes': 719,\n",
              " 'dr': 720,\n",
              " 'liverpool': 721,\n",
              " 're': 722,\n",
              " 'labours': 723,\n",
              " 'official': 724,\n",
              " '13': 725,\n",
              " 'whole': 726,\n",
              " 'german': 727,\n",
              " 'grand': 728,\n",
              " 'me': 729,\n",
              " 'provide': 730,\n",
              " '14': 731,\n",
              " 'stand': 732,\n",
              " 'ball': 733,\n",
              " 'value': 734,\n",
              " '24': 735,\n",
              " 'independent': 736,\n",
              " 'drive': 737,\n",
              " 'hopes': 738,\n",
              " 'immigration': 739,\n",
              " 'either': 740,\n",
              " 'martin': 741,\n",
              " 'singer': 742,\n",
              " 'helped': 743,\n",
              " 'conservative': 744,\n",
              " 'survey': 745,\n",
              " 'squad': 746,\n",
              " '2000': 747,\n",
              " 'exchange': 748,\n",
              " 'west': 749,\n",
              " 'scottish': 750,\n",
              " 'india': 751,\n",
              " 'festival': 752,\n",
              " 'taxes': 753,\n",
              " 'fight': 754,\n",
              " 'bring': 755,\n",
              " 'proposals': 756,\n",
              " 'after': 757,\n",
              " 'comedy': 758,\n",
              " 'period': 759,\n",
              " 'gave': 760,\n",
              " 'cant': 761,\n",
              " 'meanwhile': 762,\n",
              " 'countrys': 763,\n",
              " 'speed': 764,\n",
              " 'included': 765,\n",
              " 'arsenal': 766,\n",
              " 'extra': 767,\n",
              " 'systems': 768,\n",
              " 'average': 769,\n",
              " 'weekend': 770,\n",
              " 'compared': 771,\n",
              " 'rock': 772,\n",
              " 'sell': 773,\n",
              " 'night': 774,\n",
              " 'force': 775,\n",
              " 'hes': 776,\n",
              " 'wrong': 777,\n",
              " 'ban': 778,\n",
              " 'areas': 779,\n",
              " 'forced': 780,\n",
              " '2006': 781,\n",
              " 'press': 782,\n",
              " 'numbers': 783,\n",
              " 'workers': 784,\n",
              " 'entertainment': 785,\n",
              " 'standard': 786,\n",
              " 'impact': 787,\n",
              " 'attack': 788,\n",
              " 'worked': 789,\n",
              " 'fraud': 790,\n",
              " 'everyone': 791,\n",
              " 'markets': 792,\n",
              " 'over': 793,\n",
              " 'banks': 794,\n",
              " 'speech': 795,\n",
              " 'kennedy': 796,\n",
              " 'private': 797,\n",
              " 'admitted': 798,\n",
              " 'tsunami': 799,\n",
              " 'named': 800,\n",
              " 'laws': 801,\n",
              " 'soon': 802,\n",
              " 'officials': 803,\n",
              " 'charge': 804,\n",
              " 'university': 805,\n",
              " 'history': 806,\n",
              " 'everything': 807,\n",
              " 'theres': 808,\n",
              " 'commons': 809,\n",
              " 'view': 810,\n",
              " 'opportunity': 811,\n",
              " 'fund': 812,\n",
              " 'investors': 813,\n",
              " 'target': 814,\n",
              " 'via': 815,\n",
              " 'happy': 816,\n",
              " 'too': 817,\n",
              " 'staff': 818,\n",
              " 'course': 819,\n",
              " 'download': 820,\n",
              " 'cuts': 821,\n",
              " 'process': 822,\n",
              " 'sector': 823,\n",
              " 'screen': 824,\n",
              " 'spent': 825,\n",
              " 'generation': 826,\n",
              " 'outside': 827,\n",
              " 'particularly': 828,\n",
              " 'concerns': 829,\n",
              " 'became': 830,\n",
              " 'charges': 831,\n",
              " 'drugs': 832,\n",
              " 'robinson': 833,\n",
              " 'turned': 834,\n",
              " 'v': 835,\n",
              " 'tough': 836,\n",
              " 'brought': 837,\n",
              " 'double': 838,\n",
              " 'card': 839,\n",
              " 'takes': 840,\n",
              " 'bought': 841,\n",
              " 'agency': 842,\n",
              " 'comments': 843,\n",
              " 'community': 844,\n",
              " 'energy': 845,\n",
              " 'britains': 846,\n",
              " 'states': 847,\n",
              " 'front': 848,\n",
              " 'decided': 849,\n",
              " 'newspaper': 850,\n",
              " 'authorities': 851,\n",
              " 'shot': 852,\n",
              " 'original': 853,\n",
              " 'amount': 854,\n",
              " 'windows': 855,\n",
              " 'spam': 856,\n",
              " 'remains': 857,\n",
              " 'department': 858,\n",
              " 'battle': 859,\n",
              " 'focus': 860,\n",
              " 'created': 861,\n",
              " 'whose': 862,\n",
              " 'moment': 863,\n",
              " 'step': 864,\n",
              " 'spend': 865,\n",
              " 'quality': 866,\n",
              " 'bad': 867,\n",
              " 'while': 868,\n",
              " 'winner': 869,\n",
              " 'mobiles': 870,\n",
              " 'concerned': 871,\n",
              " 'situation': 872,\n",
              " 'often': 873,\n",
              " 'widely': 874,\n",
              " 'lords': 875,\n",
              " 'hand': 876,\n",
              " 'pcs': 877,\n",
              " 'kilroy': 878,\n",
              " 'shown': 879,\n",
              " 'lives': 880,\n",
              " 'speaking': 881,\n",
              " 'majority': 882,\n",
              " 'lower': 883,\n",
              " 'area': 884,\n",
              " 'is': 885,\n",
              " 'civil': 886,\n",
              " 'analyst': 887,\n",
              " 'challenge': 888,\n",
              " 'websites': 889,\n",
              " 'schools': 890,\n",
              " 'experience': 891,\n",
              " 'defence': 892,\n",
              " 'easy': 893,\n",
              " 'audience': 894,\n",
              " 'uks': 895,\n",
              " 'selling': 896,\n",
              " 'confirmed': 897,\n",
              " 'non': 898,\n",
              " 'air': 899,\n",
              " 'longer': 900,\n",
              " 'poor': 901,\n",
              " 'revealed': 902,\n",
              " 'robert': 903,\n",
              " 'levels': 904,\n",
              " 'offered': 905,\n",
              " 'signed': 906,\n",
              " 'april': 907,\n",
              " 'poll': 908,\n",
              " 'member': 909,\n",
              " 'bt': 910,\n",
              " 'body': 911,\n",
              " 'euro': 912,\n",
              " 'cross': 913,\n",
              " 'raise': 914,\n",
              " 'story': 915,\n",
              " 'mike': 916,\n",
              " 'training': 917,\n",
              " 'message': 918,\n",
              " 'gone': 919,\n",
              " 'messages': 920,\n",
              " 'credit': 921,\n",
              " 'stay': 922,\n",
              " 'worth': 923,\n",
              " 'andy': 924,\n",
              " 'host': 925,\n",
              " 'terms': 926,\n",
              " 'finance': 927,\n",
              " 'technologies': 928,\n",
              " 'insisted': 929,\n",
              " 'james': 930,\n",
              " 'reach': 931,\n",
              " 'june': 932,\n",
              " 'ways': 933,\n",
              " 'increased': 934,\n",
              " 'davis': 935,\n",
              " 'post': 936,\n",
              " 'xc2xa31': 937,\n",
              " 'unit': 938,\n",
              " 'champions': 939,\n",
              " 'debut': 940,\n",
              " 'looked': 941,\n",
              " 'down': 942,\n",
              " 'conservatives': 943,\n",
              " 'reached': 944,\n",
              " 'critics': 945,\n",
              " 'debate': 946,\n",
              " 'response': 947,\n",
              " 'trust': 948,\n",
              " 'fast': 949,\n",
              " 'ukip': 950,\n",
              " 'leave': 951,\n",
              " 'example': 952,\n",
              " 'positive': 953,\n",
              " 'risk': 954,\n",
              " 'file': 955,\n",
              " 'both': 956,\n",
              " 'looks': 957,\n",
              " 'gadget': 958,\n",
              " 'again': 959,\n",
              " 'confidence': 960,\n",
              " 'build': 961,\n",
              " 'device': 962,\n",
              " 'indian': 963,\n",
              " 'row': 964,\n",
              " 'north': 965,\n",
              " 'care': 966,\n",
              " 'track': 967,\n",
              " 'serious': 968,\n",
              " 'details': 969,\n",
              " 'millions': 970,\n",
              " 'my': 971,\n",
              " 'previously': 972,\n",
              " 'images': 973,\n",
              " 'mp': 974,\n",
              " 'account': 975,\n",
              " 'central': 976,\n",
              " 'captain': 977,\n",
              " 'roddick': 978,\n",
              " 'watch': 979,\n",
              " '22': 980,\n",
              " 'designed': 981,\n",
              " '19': 982,\n",
              " 'management': 983,\n",
              " 'computers': 984,\n",
              " 'social': 985,\n",
              " 'programs': 986,\n",
              " 'argued': 987,\n",
              " 'followed': 988,\n",
              " 'favourite': 989,\n",
              " 'deutsche': 990,\n",
              " 'nine': 991,\n",
              " 'do': 992,\n",
              " 'becoming': 993,\n",
              " 'allowed': 994,\n",
              " 'under': 995,\n",
              " 'profit': 996,\n",
              " 'attempt': 997,\n",
              " 'crime': 998,\n",
              " 'files': 999,\n",
              " 'alan': 1000,\n",
              " ...}"
            ]
          },
          "metadata": {},
          "execution_count": 51
        }
      ]
    },
    {
      "cell_type": "code",
      "source": [
        "len(word_index)"
      ],
      "metadata": {
        "colab": {
          "base_uri": "https://localhost:8080/"
        },
        "id": "Kktz4Wq1FObj",
        "outputId": "6541f583-3a8c-4d6f-84d3-4abf34c82722"
      },
      "execution_count": 52,
      "outputs": [
        {
          "output_type": "execute_result",
          "data": {
            "text/plain": [
              "30935"
            ]
          },
          "metadata": {},
          "execution_count": 52
        }
      ]
    },
    {
      "cell_type": "code",
      "source": [
        "# Converting articles to numbers\n",
        "train_sequences = tokenizer.texts_to_sequences(train_articles)\n",
        "validation_sequences = tokenizer.texts_to_sequences(validation_articles)\n",
        "\n",
        "len(train_sequences), len(validation_sequences)"
      ],
      "metadata": {
        "colab": {
          "base_uri": "https://localhost:8080/"
        },
        "id": "Ojia34iTFPet",
        "outputId": "2e56eb5c-0f00-4c55-f3b7-84bb7d29e82f"
      },
      "execution_count": 60,
      "outputs": [
        {
          "output_type": "execute_result",
          "data": {
            "text/plain": [
              "(1780, 445)"
            ]
          },
          "metadata": {},
          "execution_count": 60
        }
      ]
    },
    {
      "cell_type": "code",
      "source": [
        "train_sequences[0]"
      ],
      "metadata": {
        "colab": {
          "base_uri": "https://localhost:8080/"
        },
        "id": "GfoJASydFsCK",
        "outputId": "fc05e590-3483-4260-a72c-82221f4fe200"
      },
      "execution_count": 54,
      "outputs": [
        {
          "output_type": "execute_result",
          "data": {
            "text/plain": [
              "[12,\n",
              " 102,\n",
              " 694,\n",
              " 799,\n",
              " 1383,\n",
              " 23,\n",
              " 12,\n",
              " 614,\n",
              " 428,\n",
              " 824,\n",
              " 2404,\n",
              " 102,\n",
              " 694,\n",
              " 1409,\n",
              " 799,\n",
              " 1383,\n",
              " 1042,\n",
              " 333,\n",
              " 1246,\n",
              " 1,\n",
              " 2064,\n",
              " 1,\n",
              " 2361,\n",
              " 1100,\n",
              " 130,\n",
              " 77,\n",
              " 3380,\n",
              " 1101,\n",
              " 2065,\n",
              " 500,\n",
              " 259,\n",
              " 640,\n",
              " 1,\n",
              " 1,\n",
              " 1,\n",
              " 2005,\n",
              " 1,\n",
              " 40,\n",
              " 2,\n",
              " 378,\n",
              " 1247,\n",
              " 913,\n",
              " 465,\n",
              " 4497,\n",
              " 2774,\n",
              " 1781,\n",
              " 1,\n",
              " 541,\n",
              " 2453,\n",
              " 1,\n",
              " 762,\n",
              " 1653,\n",
              " 2833,\n",
              " 2588,\n",
              " 37,\n",
              " 608,\n",
              " 658,\n",
              " 722,\n",
              " 1829,\n",
              " 26,\n",
              " 1466,\n",
              " 25,\n",
              " 1,\n",
              " 1,\n",
              " 914,\n",
              " 1528,\n",
              " 2,\n",
              " 542,\n",
              " 407,\n",
              " 533,\n",
              " 297,\n",
              " 2649,\n",
              " 1158,\n",
              " 1,\n",
              " 555,\n",
              " 541,\n",
              " 1548,\n",
              " 4216,\n",
              " 126,\n",
              " 1136,\n",
              " 156,\n",
              " 1,\n",
              " 40,\n",
              " 11,\n",
              " 2066,\n",
              " 98,\n",
              " 78,\n",
              " 257,\n",
              " 1,\n",
              " 199,\n",
              " 1634,\n",
              " 2148,\n",
              " 1,\n",
              " 963,\n",
              " 1,\n",
              " 665,\n",
              " 4359,\n",
              " 1,\n",
              " 1,\n",
              " 2067,\n",
              " 410,\n",
              " 239,\n",
              " 2,\n",
              " 246,\n",
              " 228,\n",
              " 455,\n",
              " 45,\n",
              " 2066,\n",
              " 1136,\n",
              " 16,\n",
              " 251,\n",
              " 3929,\n",
              " 541,\n",
              " 348,\n",
              " 931,\n",
              " 2954,\n",
              " 779,\n",
              " 4498,\n",
              " 348,\n",
              " 897,\n",
              " 1,\n",
              " 541,\n",
              " 1383,\n",
              " 1409,\n",
              " 264,\n",
              " 160,\n",
              " 8,\n",
              " 1782,\n",
              " 20,\n",
              " 1100,\n",
              " 1,\n",
              " 1747,\n",
              " 110,\n",
              " 322,\n",
              " 12,\n",
              " 614,\n",
              " 501,\n",
              " 97,\n",
              " 261,\n",
              " 410,\n",
              " 593,\n",
              " 1183,\n",
              " 645,\n",
              " 521,\n",
              " 1091,\n",
              " 23,\n",
              " 2775,\n",
              " 1,\n",
              " 1169,\n",
              " 1,\n",
              " 1,\n",
              " 146,\n",
              " 1548,\n",
              " 3930,\n",
              " 645,\n",
              " 25,\n",
              " 355,\n",
              " 4499,\n",
              " 1]"
            ]
          },
          "metadata": {},
          "execution_count": 54
        }
      ]
    },
    {
      "cell_type": "code",
      "source": [
        "len(train_sequences[0]), len(validation_sequences[0])"
      ],
      "metadata": {
        "colab": {
          "base_uri": "https://localhost:8080/"
        },
        "id": "JoDhPnYPGBEI",
        "outputId": "15a054a1-3e7c-4ba8-f9bc-e833353d4e9a"
      },
      "execution_count": 61,
      "outputs": [
        {
          "output_type": "execute_result",
          "data": {
            "text/plain": [
              "(159, 128)"
            ]
          },
          "metadata": {},
          "execution_count": 61
        }
      ]
    },
    {
      "cell_type": "code",
      "source": [
        "# Getting the average of lengths of all train sequences\n",
        "lengths = []\n",
        "for sequence in train_sequences + validation_sequences:\n",
        "  lengths.append(len(sequence))\n",
        "\n",
        "avg_length = int(sum(lengths) / len(lengths))\n",
        "avg_length"
      ],
      "metadata": {
        "colab": {
          "base_uri": "https://localhost:8080/"
        },
        "id": "NuqbDhfaGHly",
        "outputId": "6e5eb1ae-6c0e-4f46-d9e9-cb1d6b31de0f"
      },
      "execution_count": 62,
      "outputs": [
        {
          "output_type": "execute_result",
          "data": {
            "text/plain": [
              "244"
            ]
          },
          "metadata": {},
          "execution_count": 62
        }
      ]
    },
    {
      "cell_type": "code",
      "source": [
        "# Padding all articles such that all of them has the same length.\n",
        "train_padded = pad_sequences(train_sequences, maxlen=avg_length)\n",
        "validation_padded = pad_sequences(validation_sequences, maxlen=avg_length)"
      ],
      "metadata": {
        "id": "DyCWgQgwFvE1"
      },
      "execution_count": 65,
      "outputs": []
    },
    {
      "cell_type": "code",
      "source": [
        "len(train_padded[2])"
      ],
      "metadata": {
        "colab": {
          "base_uri": "https://localhost:8080/"
        },
        "id": "IzjHvfc4F9aM",
        "outputId": "81444b25-16bc-4483-8973-a508cca5e307"
      },
      "execution_count": 66,
      "outputs": [
        {
          "output_type": "execute_result",
          "data": {
            "text/plain": [
              "244"
            ]
          },
          "metadata": {},
          "execution_count": 66
        }
      ]
    },
    {
      "cell_type": "code",
      "source": [
        "train_padded[0], validation_padded[0]   # Note: the padded items are put in the start of the sequence."
      ],
      "metadata": {
        "colab": {
          "base_uri": "https://localhost:8080/"
        },
        "id": "iKhPIEFeG089",
        "outputId": "4748d312-d5ce-4f6b-98c3-b15de256a629"
      },
      "execution_count": 68,
      "outputs": [
        {
          "output_type": "execute_result",
          "data": {
            "text/plain": [
              "(array([   0,    0,    0,    0,    0,    0,    0,    0,    0,    0,    0,\n",
              "           0,    0,    0,    0,    0,    0,    0,    0,    0,    0,    0,\n",
              "           0,    0,    0,    0,    0,    0,    0,    0,    0,    0,    0,\n",
              "           0,    0,    0,    0,    0,    0,    0,    0,    0,    0,    0,\n",
              "           0,    0,    0,    0,    0,    0,    0,    0,    0,    0,    0,\n",
              "           0,    0,    0,    0,    0,    0,    0,    0,    0,    0,    0,\n",
              "           0,    0,    0,    0,    0,    0,    0,    0,    0,    0,    0,\n",
              "           0,    0,    0,    0,    0,    0,    0,    0,   12,  102,  694,\n",
              "         799, 1383,   23,   12,  614,  428,  824, 2404,  102,  694, 1409,\n",
              "         799, 1383, 1042,  333, 1246,    1, 2064,    1, 2361, 1100,  130,\n",
              "          77, 3380, 1101, 2065,  500,  259,  640,    1,    1,    1, 2005,\n",
              "           1,   40,    2,  378, 1247,  913,  465, 4497, 2774, 1781,    1,\n",
              "         541, 2453,    1,  762, 1653, 2833, 2588,   37,  608,  658,  722,\n",
              "        1829,   26, 1466,   25,    1,    1,  914, 1528,    2,  542,  407,\n",
              "         533,  297, 2649, 1158,    1,  555,  541, 1548, 4216,  126, 1136,\n",
              "         156,    1,   40,   11, 2066,   98,   78,  257,    1,  199, 1634,\n",
              "        2148,    1,  963,    1,  665, 4359,    1,    1, 2067,  410,  239,\n",
              "           2,  246,  228,  455,   45, 2066, 1136,   16,  251, 3929,  541,\n",
              "         348,  931, 2954,  779, 4498,  348,  897,    1,  541, 1383, 1409,\n",
              "         264,  160,    8, 1782,   20, 1100,    1, 1747,  110,  322,   12,\n",
              "         614,  501,   97,  261,  410,  593, 1183,  645,  521, 1091,   23,\n",
              "        2775,    1, 1169,    1,    1,  146, 1548, 3930,  645,   25,  355,\n",
              "        4499,    1], dtype=int32),\n",
              " array([   0,    0,    0,    0,    0,    0,    0,    0,    0,    0,    0,\n",
              "           0,    0,    0,    0,    0,    0,    0,    0,    0,    0,    0,\n",
              "           0,    0,    0,    0,    0,    0,    0,    0,    0,    0,    0,\n",
              "           0,    0,    0,    0,    0,    0,    0,    0,    0,    0,    0,\n",
              "           0,    0,    0,    0,    0,    0,    0,    0,    0,    0,    0,\n",
              "           0,    0,    0,    0,    0,    0,    0,    0,    0,    0,    0,\n",
              "           0,    0,    0,    0,    0,    0,    0,    0,    0,    0,    0,\n",
              "           0,    0,    0,    0,    0,    0,    0,    0,    0,    0,    0,\n",
              "           0,    0,    0,    0,    0,    0,    0,    0,    0,    0,    0,\n",
              "           0,    0,    0,    0,    0,    0,    0,    0,    0,    0,    0,\n",
              "           0,    0,    0,    0,    0,    0,  484,  609,  631,  183,   33,\n",
              "         689,  361,    1,    1,    1,  341,   33,    1, 1401,    1,  407,\n",
              "         440,  239,  156,   25,    1,    3,    1, 1401,    1,   44, 1157,\n",
              "         613,  202,  143,   17,   88,  269,   43, 1139, 1902, 4504, 2499,\n",
              "          18,   20,  261,    1,  689,  276,    9,    1,  235, 1841,   18,\n",
              "        1310,  273, 1020,  440,   22,    1, 1401,    1,  147, 1694, 4589,\n",
              "        2041,   27, 2915,    1,    1,  595,    8, 2834,  915,  457,    9,\n",
              "         120, 1371, 4651,    1, 1483,    1, 4139,  280, 3265, 1401,    1,\n",
              "        1138,    1,    1,    1,   47,  250, 2494,  959,   23,  193,    1,\n",
              "           1,    3,   33, 3745,  599,  304,  287, 1067, 2597,  240,  227,\n",
              "        1226,    1,   26,   60, 2690,   33,   26,  532,   60,    1,  947,\n",
              "          48,    2,  300, 1428,  609,  182,  333, 1955,  735,  266,  249,\n",
              "         298,  259], dtype=int32))"
            ]
          },
          "metadata": {},
          "execution_count": 68
        }
      ]
    },
    {
      "cell_type": "code",
      "source": [
        "set(labels)"
      ],
      "metadata": {
        "colab": {
          "base_uri": "https://localhost:8080/"
        },
        "id": "W_NG6FVxImFc",
        "outputId": "778021a4-2be5-46ef-fe82-c23940a98287"
      },
      "execution_count": 70,
      "outputs": [
        {
          "output_type": "execute_result",
          "data": {
            "text/plain": [
              "{'business', 'entertainment', 'politics', 'sport', 'tech'}"
            ]
          },
          "metadata": {},
          "execution_count": 70
        }
      ]
    },
    {
      "cell_type": "code",
      "source": [
        "label_tokenizer = Tokenizer(num_words=5 + 1)  # I put 6 here not 5 such that if it is not a label from them.\n",
        "label_tokenizer.fit_on_texts(labels)\n",
        "\n",
        "training_label_seq = np.array(label_tokenizer.texts_to_sequences(train_labels))\n",
        "validation_label_seq = np.array(label_tokenizer.texts_to_sequences(validation_labels))"
      ],
      "metadata": {
        "id": "1OJWLUkLG238"
      },
      "execution_count": 88,
      "outputs": []
    },
    {
      "cell_type": "code",
      "source": [
        "training_label_seq[0]"
      ],
      "metadata": {
        "colab": {
          "base_uri": "https://localhost:8080/"
        },
        "id": "bBtlMYuuJFj5",
        "outputId": "e9884aad-cff5-40f8-d21a-6216f865ebae"
      },
      "execution_count": 89,
      "outputs": [
        {
          "output_type": "execute_result",
          "data": {
            "text/plain": [
              "array([5])"
            ]
          },
          "metadata": {},
          "execution_count": 89
        }
      ]
    },
    {
      "cell_type": "markdown",
      "source": [
        "# Using RNN Model."
      ],
      "metadata": {
        "id": "BRmFosNPLNL3"
      }
    },
    {
      "cell_type": "code",
      "source": [
        "RNN_Model = Sequential()\n",
        "RNN_Model.add(Embedding(vocab_size,embedding_dim ))\n",
        "RNN_Model.add(Dropout(0.2))\n",
        "RNN_Model.add(SimpleRNN(units = embedding_dim))\n",
        "RNN_Model.add(Dropout(0.2))\n",
        "RNN_Model.add(Dense(6,activation='softmax'))\n",
        "RNN_Model.summary()"
      ],
      "metadata": {
        "colab": {
          "base_uri": "https://localhost:8080/",
          "height": 289
        },
        "id": "UqQSCggaI6Ce",
        "outputId": "0302cc0a-7ca3-4b67-97b4-0c4503c4418d"
      },
      "execution_count": 76,
      "outputs": [
        {
          "output_type": "display_data",
          "data": {
            "text/plain": [
              "\u001b[1mModel: \"sequential\"\u001b[0m\n"
            ],
            "text/html": [
              "<pre style=\"white-space:pre;overflow-x:auto;line-height:normal;font-family:Menlo,'DejaVu Sans Mono',consolas,'Courier New',monospace\"><span style=\"font-weight: bold\">Model: \"sequential\"</span>\n",
              "</pre>\n"
            ]
          },
          "metadata": {}
        },
        {
          "output_type": "display_data",
          "data": {
            "text/plain": [
              "┏━━━━━━━━━━━━━━━━━━━━━━━━━━━━━━━━━━━━━━┳━━━━━━━━━━━━━━━━━━━━━━━━━━━━━┳━━━━━━━━━━━━━━━━━┓\n",
              "┃\u001b[1m \u001b[0m\u001b[1mLayer (type)                        \u001b[0m\u001b[1m \u001b[0m┃\u001b[1m \u001b[0m\u001b[1mOutput Shape               \u001b[0m\u001b[1m \u001b[0m┃\u001b[1m \u001b[0m\u001b[1m        Param #\u001b[0m\u001b[1m \u001b[0m┃\n",
              "┡━━━━━━━━━━━━━━━━━━━━━━━━━━━━━━━━━━━━━━╇━━━━━━━━━━━━━━━━━━━━━━━━━━━━━╇━━━━━━━━━━━━━━━━━┩\n",
              "│ embedding (\u001b[38;5;33mEmbedding\u001b[0m)                │ ?                           │     \u001b[38;5;34m0\u001b[0m (unbuilt) │\n",
              "├──────────────────────────────────────┼─────────────────────────────┼─────────────────┤\n",
              "│ dropout (\u001b[38;5;33mDropout\u001b[0m)                    │ ?                           │               \u001b[38;5;34m0\u001b[0m │\n",
              "├──────────────────────────────────────┼─────────────────────────────┼─────────────────┤\n",
              "│ simple_rnn (\u001b[38;5;33mSimpleRNN\u001b[0m)               │ ?                           │     \u001b[38;5;34m0\u001b[0m (unbuilt) │\n",
              "├──────────────────────────────────────┼─────────────────────────────┼─────────────────┤\n",
              "│ dropout_1 (\u001b[38;5;33mDropout\u001b[0m)                  │ ?                           │               \u001b[38;5;34m0\u001b[0m │\n",
              "├──────────────────────────────────────┼─────────────────────────────┼─────────────────┤\n",
              "│ dense (\u001b[38;5;33mDense\u001b[0m)                        │ ?                           │     \u001b[38;5;34m0\u001b[0m (unbuilt) │\n",
              "└──────────────────────────────────────┴─────────────────────────────┴─────────────────┘\n"
            ],
            "text/html": [
              "<pre style=\"white-space:pre;overflow-x:auto;line-height:normal;font-family:Menlo,'DejaVu Sans Mono',consolas,'Courier New',monospace\">┏━━━━━━━━━━━━━━━━━━━━━━━━━━━━━━━━━━━━━━┳━━━━━━━━━━━━━━━━━━━━━━━━━━━━━┳━━━━━━━━━━━━━━━━━┓\n",
              "┃<span style=\"font-weight: bold\"> Layer (type)                         </span>┃<span style=\"font-weight: bold\"> Output Shape                </span>┃<span style=\"font-weight: bold\">         Param # </span>┃\n",
              "┡━━━━━━━━━━━━━━━━━━━━━━━━━━━━━━━━━━━━━━╇━━━━━━━━━━━━━━━━━━━━━━━━━━━━━╇━━━━━━━━━━━━━━━━━┩\n",
              "│ embedding (<span style=\"color: #0087ff; text-decoration-color: #0087ff\">Embedding</span>)                │ ?                           │     <span style=\"color: #00af00; text-decoration-color: #00af00\">0</span> (unbuilt) │\n",
              "├──────────────────────────────────────┼─────────────────────────────┼─────────────────┤\n",
              "│ dropout (<span style=\"color: #0087ff; text-decoration-color: #0087ff\">Dropout</span>)                    │ ?                           │               <span style=\"color: #00af00; text-decoration-color: #00af00\">0</span> │\n",
              "├──────────────────────────────────────┼─────────────────────────────┼─────────────────┤\n",
              "│ simple_rnn (<span style=\"color: #0087ff; text-decoration-color: #0087ff\">SimpleRNN</span>)               │ ?                           │     <span style=\"color: #00af00; text-decoration-color: #00af00\">0</span> (unbuilt) │\n",
              "├──────────────────────────────────────┼─────────────────────────────┼─────────────────┤\n",
              "│ dropout_1 (<span style=\"color: #0087ff; text-decoration-color: #0087ff\">Dropout</span>)                  │ ?                           │               <span style=\"color: #00af00; text-decoration-color: #00af00\">0</span> │\n",
              "├──────────────────────────────────────┼─────────────────────────────┼─────────────────┤\n",
              "│ dense (<span style=\"color: #0087ff; text-decoration-color: #0087ff\">Dense</span>)                        │ ?                           │     <span style=\"color: #00af00; text-decoration-color: #00af00\">0</span> (unbuilt) │\n",
              "└──────────────────────────────────────┴─────────────────────────────┴─────────────────┘\n",
              "</pre>\n"
            ]
          },
          "metadata": {}
        },
        {
          "output_type": "display_data",
          "data": {
            "text/plain": [
              "\u001b[1m Total params: \u001b[0m\u001b[38;5;34m0\u001b[0m (0.00 B)\n"
            ],
            "text/html": [
              "<pre style=\"white-space:pre;overflow-x:auto;line-height:normal;font-family:Menlo,'DejaVu Sans Mono',consolas,'Courier New',monospace\"><span style=\"font-weight: bold\"> Total params: </span><span style=\"color: #00af00; text-decoration-color: #00af00\">0</span> (0.00 B)\n",
              "</pre>\n"
            ]
          },
          "metadata": {}
        },
        {
          "output_type": "display_data",
          "data": {
            "text/plain": [
              "\u001b[1m Trainable params: \u001b[0m\u001b[38;5;34m0\u001b[0m (0.00 B)\n"
            ],
            "text/html": [
              "<pre style=\"white-space:pre;overflow-x:auto;line-height:normal;font-family:Menlo,'DejaVu Sans Mono',consolas,'Courier New',monospace\"><span style=\"font-weight: bold\"> Trainable params: </span><span style=\"color: #00af00; text-decoration-color: #00af00\">0</span> (0.00 B)\n",
              "</pre>\n"
            ]
          },
          "metadata": {}
        },
        {
          "output_type": "display_data",
          "data": {
            "text/plain": [
              "\u001b[1m Non-trainable params: \u001b[0m\u001b[38;5;34m0\u001b[0m (0.00 B)\n"
            ],
            "text/html": [
              "<pre style=\"white-space:pre;overflow-x:auto;line-height:normal;font-family:Menlo,'DejaVu Sans Mono',consolas,'Courier New',monospace\"><span style=\"font-weight: bold\"> Non-trainable params: </span><span style=\"color: #00af00; text-decoration-color: #00af00\">0</span> (0.00 B)\n",
              "</pre>\n"
            ]
          },
          "metadata": {}
        }
      ]
    },
    {
      "cell_type": "code",
      "source": [
        "opt = tf.keras.optimizers.Adam(learning_rate=0.001, decay=1e-6)\n",
        "RNN_Model.compile(loss='sparse_categorical_crossentropy',optimizer=opt,metrics=['accuracy'])"
      ],
      "metadata": {
        "colab": {
          "base_uri": "https://localhost:8080/"
        },
        "id": "hZblxG1MJY3s",
        "outputId": "a8d35ba6-b386-4a48-fbe0-d9c68ad85f36"
      },
      "execution_count": 79,
      "outputs": [
        {
          "output_type": "stream",
          "name": "stderr",
          "text": [
            "/usr/local/lib/python3.11/dist-packages/keras/src/optimizers/base_optimizer.py:86: UserWarning: Argument `decay` is no longer supported and will be ignored.\n",
            "  warnings.warn(\n"
          ]
        }
      ]
    },
    {
      "cell_type": "code",
      "source": [
        "num_epochs = 20\n",
        "history = RNN_Model.fit(train_padded, training_label_seq, epochs=num_epochs,\n",
        "                    validation_data=(validation_padded, validation_label_seq),\n",
        "                    verbose=2)"
      ],
      "metadata": {
        "colab": {
          "base_uri": "https://localhost:8080/"
        },
        "id": "7C3EgJ3CKQ5k",
        "outputId": "89e87651-4fec-4f4d-dd81-22fd1dac302d"
      },
      "execution_count": 80,
      "outputs": [
        {
          "output_type": "stream",
          "name": "stdout",
          "text": [
            "Epoch 1/20\n",
            "56/56 - 9s - 158ms/step - accuracy: 0.2365 - loss: 1.6650 - val_accuracy: 0.2831 - val_loss: 1.6014\n",
            "Epoch 2/20\n",
            "56/56 - 1s - 21ms/step - accuracy: 0.5034 - loss: 1.3940 - val_accuracy: 0.3056 - val_loss: 1.5581\n",
            "Epoch 3/20\n",
            "56/56 - 1s - 20ms/step - accuracy: 0.7787 - loss: 0.9609 - val_accuracy: 0.3213 - val_loss: 1.5649\n",
            "Epoch 4/20\n",
            "56/56 - 1s - 18ms/step - accuracy: 0.9506 - loss: 0.4230 - val_accuracy: 0.3596 - val_loss: 1.6388\n",
            "Epoch 5/20\n",
            "56/56 - 1s - 23ms/step - accuracy: 0.9966 - loss: 0.1433 - val_accuracy: 0.3393 - val_loss: 1.8401\n",
            "Epoch 6/20\n",
            "56/56 - 1s - 19ms/step - accuracy: 1.0000 - loss: 0.0573 - val_accuracy: 0.3438 - val_loss: 1.8675\n",
            "Epoch 7/20\n",
            "56/56 - 1s - 19ms/step - accuracy: 1.0000 - loss: 0.0330 - val_accuracy: 0.3348 - val_loss: 1.9945\n",
            "Epoch 8/20\n",
            "56/56 - 1s - 19ms/step - accuracy: 1.0000 - loss: 0.0210 - val_accuracy: 0.3461 - val_loss: 2.0099\n",
            "Epoch 9/20\n",
            "56/56 - 1s - 22ms/step - accuracy: 1.0000 - loss: 0.0163 - val_accuracy: 0.3438 - val_loss: 2.0673\n",
            "Epoch 10/20\n",
            "56/56 - 1s - 19ms/step - accuracy: 1.0000 - loss: 0.0118 - val_accuracy: 0.3461 - val_loss: 2.0880\n",
            "Epoch 11/20\n",
            "56/56 - 1s - 19ms/step - accuracy: 1.0000 - loss: 0.0093 - val_accuracy: 0.3416 - val_loss: 2.1912\n",
            "Epoch 12/20\n",
            "56/56 - 2s - 33ms/step - accuracy: 1.0000 - loss: 0.0078 - val_accuracy: 0.3483 - val_loss: 2.2346\n",
            "Epoch 13/20\n",
            "56/56 - 2s - 39ms/step - accuracy: 1.0000 - loss: 0.0067 - val_accuracy: 0.3618 - val_loss: 2.1951\n",
            "Epoch 14/20\n",
            "56/56 - 2s - 42ms/step - accuracy: 1.0000 - loss: 0.0054 - val_accuracy: 0.3596 - val_loss: 2.1931\n",
            "Epoch 15/20\n",
            "56/56 - 1s - 19ms/step - accuracy: 1.0000 - loss: 0.0046 - val_accuracy: 0.3663 - val_loss: 2.2482\n",
            "Epoch 16/20\n",
            "56/56 - 1s - 19ms/step - accuracy: 1.0000 - loss: 0.0042 - val_accuracy: 0.3640 - val_loss: 2.2638\n",
            "Epoch 17/20\n",
            "56/56 - 1s - 19ms/step - accuracy: 1.0000 - loss: 0.0038 - val_accuracy: 0.3573 - val_loss: 2.3216\n",
            "Epoch 18/20\n",
            "56/56 - 1s - 20ms/step - accuracy: 1.0000 - loss: 0.0032 - val_accuracy: 0.3640 - val_loss: 2.3317\n",
            "Epoch 19/20\n",
            "56/56 - 1s - 22ms/step - accuracy: 1.0000 - loss: 0.0029 - val_accuracy: 0.3438 - val_loss: 2.3600\n",
            "Epoch 20/20\n",
            "56/56 - 1s - 20ms/step - accuracy: 1.0000 - loss: 0.0025 - val_accuracy: 0.3820 - val_loss: 2.3436\n"
          ]
        }
      ]
    },
    {
      "cell_type": "code",
      "source": [
        "plt.plot(history.history['accuracy'])\n",
        "plt.plot(history.history['val_accuracy'])\n",
        "plt.title('model accuracy')\n",
        "plt.ylabel('accuracy')\n",
        "plt.xlabel('epoch')\n",
        "plt.legend(['train', 'test'], loc='upper left')\n",
        "plt.show()"
      ],
      "metadata": {
        "colab": {
          "base_uri": "https://localhost:8080/",
          "height": 472
        },
        "id": "0ApuFQkoKm2g",
        "outputId": "682a9430-8079-4a8b-ee42-7a05418bd3ea"
      },
      "execution_count": 81,
      "outputs": [
        {
          "output_type": "display_data",
          "data": {
            "text/plain": [
              "<Figure size 640x480 with 1 Axes>"
            ],
            "image/png": "[encoded data removed]"
          },
          "metadata": {}
        }
      ]
    },
    {
      "cell_type": "markdown",
      "source": [
        "# Using LSTM Model."
      ],
      "metadata": {
        "id": "exBD0DgcLRek"
      }
    },
    {
      "cell_type": "code",
      "source": [
        "LSTM_Model = Sequential()\n",
        "LSTM_Model.add(Embedding(vocab_size,embedding_dim ))\n",
        "LSTM_Model.add(Dropout(0.5))\n",
        "LSTM_Model.add(Bidirectional(LSTM(embedding_dim)))\n",
        "LSTM_Model.add(Dense(6,activation='softmax' ))\n",
        "LSTM_Model.summary()"
      ],
      "metadata": {
        "colab": {
          "base_uri": "https://localhost:8080/",
          "height": 257
        },
        "id": "TE4S9vPSK008",
        "outputId": "31571583-3c4f-436e-c7c2-dd414f397f8a"
      },
      "execution_count": 90,
      "outputs": [
        {
          "output_type": "display_data",
          "data": {
            "text/plain": [
              "\u001b[1mModel: \"sequential_2\"\u001b[0m\n"
            ],
            "text/html": [
              "<pre style=\"white-space:pre;overflow-x:auto;line-height:normal;font-family:Menlo,'DejaVu Sans Mono',consolas,'Courier New',monospace\"><span style=\"font-weight: bold\">Model: \"sequential_2\"</span>\n",
              "</pre>\n"
            ]
          },
          "metadata": {}
        },
        {
          "output_type": "display_data",
          "data": {
            "text/plain": [
              "┏━━━━━━━━━━━━━━━━━━━━━━━━━━━━━━━━━━━━━━┳━━━━━━━━━━━━━━━━━━━━━━━━━━━━━┳━━━━━━━━━━━━━━━━━┓\n",
              "┃\u001b[1m \u001b[0m\u001b[1mLayer (type)                        \u001b[0m\u001b[1m \u001b[0m┃\u001b[1m \u001b[0m\u001b[1mOutput Shape               \u001b[0m\u001b[1m \u001b[0m┃\u001b[1m \u001b[0m\u001b[1m        Param #\u001b[0m\u001b[1m \u001b[0m┃\n",
              "┡━━━━━━━━━━━━━━━━━━━━━━━━━━━━━━━━━━━━━━╇━━━━━━━━━━━━━━━━━━━━━━━━━━━━━╇━━━━━━━━━━━━━━━━━┩\n",
              "│ embedding_2 (\u001b[38;5;33mEmbedding\u001b[0m)              │ ?                           │     \u001b[38;5;34m0\u001b[0m (unbuilt) │\n",
              "├──────────────────────────────────────┼─────────────────────────────┼─────────────────┤\n",
              "│ dropout_3 (\u001b[38;5;33mDropout\u001b[0m)                  │ ?                           │               \u001b[38;5;34m0\u001b[0m │\n",
              "├──────────────────────────────────────┼─────────────────────────────┼─────────────────┤\n",
              "│ bidirectional_1 (\u001b[38;5;33mBidirectional\u001b[0m)      │ ?                           │     \u001b[38;5;34m0\u001b[0m (unbuilt) │\n",
              "├──────────────────────────────────────┼─────────────────────────────┼─────────────────┤\n",
              "│ dense_2 (\u001b[38;5;33mDense\u001b[0m)                      │ ?                           │     \u001b[38;5;34m0\u001b[0m (unbuilt) │\n",
              "└──────────────────────────────────────┴─────────────────────────────┴─────────────────┘\n"
            ],
            "text/html": [
              "<pre style=\"white-space:pre;overflow-x:auto;line-height:normal;font-family:Menlo,'DejaVu Sans Mono',consolas,'Courier New',monospace\">┏━━━━━━━━━━━━━━━━━━━━━━━━━━━━━━━━━━━━━━┳━━━━━━━━━━━━━━━━━━━━━━━━━━━━━┳━━━━━━━━━━━━━━━━━┓\n",
              "┃<span style=\"font-weight: bold\"> Layer (type)                         </span>┃<span style=\"font-weight: bold\"> Output Shape                </span>┃<span style=\"font-weight: bold\">         Param # </span>┃\n",
              "┡━━━━━━━━━━━━━━━━━━━━━━━━━━━━━━━━━━━━━━╇━━━━━━━━━━━━━━━━━━━━━━━━━━━━━╇━━━━━━━━━━━━━━━━━┩\n",
              "│ embedding_2 (<span style=\"color: #0087ff; text-decoration-color: #0087ff\">Embedding</span>)              │ ?                           │     <span style=\"color: #00af00; text-decoration-color: #00af00\">0</span> (unbuilt) │\n",
              "├──────────────────────────────────────┼─────────────────────────────┼─────────────────┤\n",
              "│ dropout_3 (<span style=\"color: #0087ff; text-decoration-color: #0087ff\">Dropout</span>)                  │ ?                           │               <span style=\"color: #00af00; text-decoration-color: #00af00\">0</span> │\n",
              "├──────────────────────────────────────┼─────────────────────────────┼─────────────────┤\n",
              "│ bidirectional_1 (<span style=\"color: #0087ff; text-decoration-color: #0087ff\">Bidirectional</span>)      │ ?                           │     <span style=\"color: #00af00; text-decoration-color: #00af00\">0</span> (unbuilt) │\n",
              "├──────────────────────────────────────┼─────────────────────────────┼─────────────────┤\n",
              "│ dense_2 (<span style=\"color: #0087ff; text-decoration-color: #0087ff\">Dense</span>)                      │ ?                           │     <span style=\"color: #00af00; text-decoration-color: #00af00\">0</span> (unbuilt) │\n",
              "└──────────────────────────────────────┴─────────────────────────────┴─────────────────┘\n",
              "</pre>\n"
            ]
          },
          "metadata": {}
        },
        {
          "output_type": "display_data",
          "data": {
            "text/plain": [
              "\u001b[1m Total params: \u001b[0m\u001b[38;5;34m0\u001b[0m (0.00 B)\n"
            ],
            "text/html": [
              "<pre style=\"white-space:pre;overflow-x:auto;line-height:normal;font-family:Menlo,'DejaVu Sans Mono',consolas,'Courier New',monospace\"><span style=\"font-weight: bold\"> Total params: </span><span style=\"color: #00af00; text-decoration-color: #00af00\">0</span> (0.00 B)\n",
              "</pre>\n"
            ]
          },
          "metadata": {}
        },
        {
          "output_type": "display_data",
          "data": {
            "text/plain": [
              "\u001b[1m Trainable params: \u001b[0m\u001b[38;5;34m0\u001b[0m (0.00 B)\n"
            ],
            "text/html": [
              "<pre style=\"white-space:pre;overflow-x:auto;line-height:normal;font-family:Menlo,'DejaVu Sans Mono',consolas,'Courier New',monospace\"><span style=\"font-weight: bold\"> Trainable params: </span><span style=\"color: #00af00; text-decoration-color: #00af00\">0</span> (0.00 B)\n",
              "</pre>\n"
            ]
          },
          "metadata": {}
        },
        {
          "output_type": "display_data",
          "data": {
            "text/plain": [
              "\u001b[1m Non-trainable params: \u001b[0m\u001b[38;5;34m0\u001b[0m (0.00 B)\n"
            ],
            "text/html": [
              "<pre style=\"white-space:pre;overflow-x:auto;line-height:normal;font-family:Menlo,'DejaVu Sans Mono',consolas,'Courier New',monospace\"><span style=\"font-weight: bold\"> Non-trainable params: </span><span style=\"color: #00af00; text-decoration-color: #00af00\">0</span> (0.00 B)\n",
              "</pre>\n"
            ]
          },
          "metadata": {}
        }
      ]
    },
    {
      "cell_type": "code",
      "source": [
        "opt = tf.keras.optimizers.Adam(learning_rate=0.001, decay=1e-6)\n",
        "LSTM_Model.compile(loss='sparse_categorical_crossentropy',optimizer=opt,metrics=['accuracy'])"
      ],
      "metadata": {
        "id": "PMZi_h5LLo0a"
      },
      "execution_count": 91,
      "outputs": []
    },
    {
      "cell_type": "code",
      "source": [
        "num_epochs = 20\n",
        "history = LSTM_Model.fit(train_padded, training_label_seq, epochs=num_epochs, validation_data=(validation_padded, validation_label_seq), verbose=2)"
      ],
      "metadata": {
        "colab": {
          "base_uri": "https://localhost:8080/"
        },
        "id": "7OP8Y7zWMDyz",
        "outputId": "4caaed8a-8a83-4b10-aa1e-0da7d72c2efc"
      },
      "execution_count": 92,
      "outputs": [
        {
          "output_type": "stream",
          "name": "stdout",
          "text": [
            "Epoch 1/20\n",
            "56/56 - 4s - 70ms/step - accuracy: 0.2798 - loss: 1.5902 - val_accuracy: 0.2742 - val_loss: 1.5329\n",
            "Epoch 2/20\n",
            "56/56 - 1s - 19ms/step - accuracy: 0.4022 - loss: 1.3670 - val_accuracy: 0.4674 - val_loss: 1.1506\n",
            "Epoch 3/20\n",
            "56/56 - 1s - 19ms/step - accuracy: 0.6270 - loss: 1.0239 - val_accuracy: 0.5888 - val_loss: 1.1749\n",
            "Epoch 4/20\n",
            "56/56 - 1s - 22ms/step - accuracy: 0.7146 - loss: 0.8869 - val_accuracy: 0.7101 - val_loss: 0.8933\n",
            "Epoch 5/20\n",
            "56/56 - 1s - 26ms/step - accuracy: 0.6933 - loss: 0.8513 - val_accuracy: 0.4921 - val_loss: 1.2768\n",
            "Epoch 6/20\n",
            "56/56 - 2s - 28ms/step - accuracy: 0.7713 - loss: 0.8073 - val_accuracy: 0.7708 - val_loss: 0.7146\n",
            "Epoch 7/20\n",
            "56/56 - 1s - 19ms/step - accuracy: 0.8281 - loss: 0.6635 - val_accuracy: 0.8112 - val_loss: 0.6940\n",
            "Epoch 8/20\n",
            "56/56 - 1s - 22ms/step - accuracy: 0.9388 - loss: 0.3191 - val_accuracy: 0.8944 - val_loss: 0.4046\n",
            "Epoch 9/20\n",
            "56/56 - 1s - 22ms/step - accuracy: 0.9298 - loss: 0.2673 - val_accuracy: 0.8427 - val_loss: 0.5257\n",
            "Epoch 10/20\n",
            "56/56 - 1s - 22ms/step - accuracy: 0.9663 - loss: 0.1712 - val_accuracy: 0.8899 - val_loss: 0.3519\n",
            "Epoch 11/20\n",
            "56/56 - 1s - 19ms/step - accuracy: 0.9848 - loss: 0.0842 - val_accuracy: 0.9034 - val_loss: 0.3297\n",
            "Epoch 12/20\n",
            "56/56 - 1s - 22ms/step - accuracy: 0.9747 - loss: 0.0951 - val_accuracy: 0.8809 - val_loss: 0.4042\n",
            "Epoch 13/20\n",
            "56/56 - 1s - 19ms/step - accuracy: 0.9860 - loss: 0.0744 - val_accuracy: 0.9101 - val_loss: 0.2855\n",
            "Epoch 14/20\n",
            "56/56 - 1s - 22ms/step - accuracy: 0.9955 - loss: 0.0368 - val_accuracy: 0.9326 - val_loss: 0.2355\n",
            "Epoch 15/20\n",
            "56/56 - 1s - 25ms/step - accuracy: 0.9961 - loss: 0.0258 - val_accuracy: 0.9258 - val_loss: 0.2610\n",
            "Epoch 16/20\n",
            "56/56 - 2s - 39ms/step - accuracy: 0.9983 - loss: 0.0147 - val_accuracy: 0.9303 - val_loss: 0.2388\n",
            "Epoch 17/20\n",
            "56/56 - 1s - 22ms/step - accuracy: 0.9826 - loss: 0.0698 - val_accuracy: 0.9191 - val_loss: 0.2770\n",
            "Epoch 18/20\n",
            "56/56 - 1s - 19ms/step - accuracy: 0.9978 - loss: 0.0192 - val_accuracy: 0.8854 - val_loss: 0.3851\n",
            "Epoch 19/20\n",
            "56/56 - 1s - 19ms/step - accuracy: 0.9944 - loss: 0.0299 - val_accuracy: 0.9146 - val_loss: 0.3242\n",
            "Epoch 20/20\n",
            "56/56 - 1s - 23ms/step - accuracy: 0.9989 - loss: 0.0075 - val_accuracy: 0.9393 - val_loss: 0.2399\n"
          ]
        }
      ]
    },
    {
      "cell_type": "code",
      "source": [
        "plt.plot(history.history['accuracy'])\n",
        "plt.plot(history.history['val_accuracy'])\n",
        "plt.title('model accuracy')\n",
        "plt.ylabel('accuracy')\n",
        "plt.xlabel('epoch')\n",
        "plt.legend(['train', 'test'], loc='upper left')\n",
        "plt.show()"
      ],
      "metadata": {
        "colab": {
          "base_uri": "https://localhost:8080/",
          "height": 472
        },
        "id": "yT2nTe1uMX2J",
        "outputId": "54896ed4-98c9-4549-c29c-4a40a4e1c4be"
      },
      "execution_count": 93,
      "outputs": [
        {
          "output_type": "display_data",
          "data": {
            "text/plain": [
              "<Figure size 640x480 with 1 Axes>"
            ],
            "image/png": "[encoded data removed]"
          },
          "metadata": {}
        }
      ]
    },
    {
      "cell_type": "code",
      "source": [
        "plt.plot(history.history['loss'])\n",
        "plt.plot(history.history['val_loss'])\n",
        "plt.title('model loss')\n",
        "plt.ylabel('loss')\n",
        "plt.xlabel('epoch')\n",
        "plt.legend(['train', 'test'], loc='upper left')\n",
        "plt.show()"
      ],
      "metadata": {
        "colab": {
          "base_uri": "https://localhost:8080/",
          "height": 472
        },
        "id": "EWAFmqRZMpi2",
        "outputId": "202b41b0-9cfc-4dc9-be67-d5bec1bcdad0"
      },
      "execution_count": 94,
      "outputs": [
        {
          "output_type": "display_data",
          "data": {
            "text/plain": [
              "<Figure size 640x480 with 1 Axes>"
            ],
            "image/png": "[encoded data removed]"
          },
          "metadata": {}
        }
      ]
    },
    {
      "cell_type": "code",
      "source": [],
      "metadata": {
        "id": "2KEIIUdeMqHk"
      },
      "execution_count": null,
      "outputs": []
    }
  ]
}